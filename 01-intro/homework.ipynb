{
 "cells": [
  {
   "cell_type": "code",
   "execution_count": 1,
   "id": "dc6d95f1-be5a-4a50-9d7a-78b602569a75",
   "metadata": {},
   "outputs": [],
   "source": [
    "import openai"
   ]
  },
  {
   "cell_type": "code",
   "execution_count": 2,
   "id": "fcfc1d18-4890-4d30-8d13-425d722cfd53",
   "metadata": {},
   "outputs": [],
   "source": [
    "from openai import OpenAI"
   ]
  },
  {
   "cell_type": "code",
   "execution_count": 3,
   "id": "9f16428d-f2a7-433b-9a1a-499f69c8cd39",
   "metadata": {},
   "outputs": [],
   "source": [
    "client = OpenAI()"
   ]
  },
  {
   "cell_type": "code",
   "execution_count": 4,
   "id": "48ceb711-288e-4463-bc50-ffd5bf11fdcc",
   "metadata": {},
   "outputs": [],
   "source": [
    "import os"
   ]
  },
  {
   "cell_type": "code",
   "execution_count": 8,
   "id": "f539e963-eb70-4a36-8323-87fc24a22ec7",
   "metadata": {},
   "outputs": [],
   "source": [
    "# os.environ"
   ]
  },
  {
   "cell_type": "code",
   "execution_count": 9,
   "id": "b680f38e-64ca-4511-97c8-ec74300902b0",
   "metadata": {},
   "outputs": [],
   "source": [
    "response = client.chat.completions.create(\n",
    "    model='gpt-4o',\n",
    "    messages=[{\"role\": \"user\", \"content\": \"is it too late to join the course?\"}]\n",
    ")"
   ]
  },
  {
   "cell_type": "code",
   "execution_count": 10,
   "id": "edf4fd05-6ab8-4e28-99d1-0fa72f177717",
   "metadata": {},
   "outputs": [
    {
     "data": {
      "text/plain": [
       "ChatCompletion(id='chatcmpl-9e5P9VR6JBlETH4ylk5Fbw7sPwWHh', choices=[Choice(finish_reason='stop', index=0, logprobs=None, message=ChatCompletionMessage(content=\"It depends on the specific course and its policies. Some courses may allow late enrollment within a certain timeframe, while others may have strict deadlines. Here are a few steps you can take to find out if it's still possible to join:\\n\\n1. **Check the Course Website:** Look for any information regarding enrollment deadlines, late registration policies, and any potential penalties or requirements for joining late.\\n\\n2. **Contact the Instructor:** Reach out to the course instructor or teaching assistants to ask if late enrollment is permitted and if there are any specific steps you need to follow.\\n\\n3. **Speak with the Registrar or Enrollment Office:** If the course is part of a larger program or institution, the registrar or enrollment office can provide information on deadlines and late enrollment procedures.\\n\\n4. **Review the Syllabus:** If you have access to the syllabus, review it to see if there is any mention of enrollment policies, especially regarding latecomers.\\n\\n5. **Consider Self-Study or Future Sessions:** If it turns out to be too late to join this time, you might be able to study the material on your own or wait until the course is offered again.\\n\\nTaking swift action is crucial if you still hope to enroll, as delays can reduce your chances of being accepted late. Good luck!\", role='assistant', function_call=None, tool_calls=None))], created=1719340923, model='gpt-4o-2024-05-13', object='chat.completion', service_tier=None, system_fingerprint='fp_3e7d703517', usage=CompletionUsage(completion_tokens=254, prompt_tokens=16, total_tokens=270))"
      ]
     },
     "execution_count": 10,
     "metadata": {},
     "output_type": "execute_result"
    }
   ],
   "source": [
    "response"
   ]
  },
  {
   "cell_type": "code",
   "execution_count": 13,
   "id": "eab12078-5404-41a4-b948-89ccb46a9384",
   "metadata": {},
   "outputs": [
    {
     "data": {
      "text/plain": [
       "ChatCompletionMessage(content=\"It depends on the specific course and its policies. Some courses may allow late enrollment within a certain timeframe, while others may have strict deadlines. Here are a few steps you can take to find out if it's still possible to join:\\n\\n1. **Check the Course Website:** Look for any information regarding enrollment deadlines, late registration policies, and any potential penalties or requirements for joining late.\\n\\n2. **Contact the Instructor:** Reach out to the course instructor or teaching assistants to ask if late enrollment is permitted and if there are any specific steps you need to follow.\\n\\n3. **Speak with the Registrar or Enrollment Office:** If the course is part of a larger program or institution, the registrar or enrollment office can provide information on deadlines and late enrollment procedures.\\n\\n4. **Review the Syllabus:** If you have access to the syllabus, review it to see if there is any mention of enrollment policies, especially regarding latecomers.\\n\\n5. **Consider Self-Study or Future Sessions:** If it turns out to be too late to join this time, you might be able to study the material on your own or wait until the course is offered again.\\n\\nTaking swift action is crucial if you still hope to enroll, as delays can reduce your chances of being accepted late. Good luck!\", role='assistant', function_call=None, tool_calls=None)"
      ]
     },
     "execution_count": 13,
     "metadata": {},
     "output_type": "execute_result"
    }
   ],
   "source": [
    "response.choices[0].message"
   ]
  }
 ],
 "metadata": {
  "kernelspec": {
   "display_name": "Python 3 (ipykernel)",
   "language": "python",
   "name": "python3"
  },
  "language_info": {
   "codemirror_mode": {
    "name": "ipython",
    "version": 3
   },
   "file_extension": ".py",
   "mimetype": "text/x-python",
   "name": "python",
   "nbconvert_exporter": "python",
   "pygments_lexer": "ipython3",
   "version": "3.10.13"
  }
 },
 "nbformat": 4,
 "nbformat_minor": 5
}
